{
 "cells": [
  {
   "cell_type": "code",
   "execution_count": 1,
   "metadata": {},
   "outputs": [],
   "source": [
    "import numpy as np\n",
    "from sys import getsizeof"
   ]
  },
  {
   "cell_type": "code",
   "execution_count": 2,
   "metadata": {},
   "outputs": [],
   "source": [
    "# Define the size of biggish data\n",
    "N = int(10 ** 13)"
   ]
  },
  {
   "cell_type": "code",
   "execution_count": 3,
   "metadata": {},
   "outputs": [
    {
     "name": "stdout",
     "output_type": "stream",
     "text": [
      "Data = [0. 0. 0. ... 0. 0. 0.]\n",
      "Defined type: float64\n",
      "Occupied Memory = 80000000000104\n"
     ]
    }
   ],
   "source": [
    "# Generate some data\n",
    "data = np.zeros(N)\n",
    "print(f'Data = {data}')\n",
    "print(f'Defined type: {data.dtype}')\n",
    "print(f'Occupied Memory = {getsizeof(data)}')"
   ]
  },
  {
   "cell_type": "code",
   "execution_count": 38,
   "metadata": {},
   "outputs": [],
   "source": [
    "# Define the size of biggish data\n",
    "N = int(1 * 10 ** 14)"
   ]
  },
  {
   "cell_type": "code",
   "execution_count": 41,
   "metadata": {},
   "outputs": [
    {
     "name": "stdout",
     "output_type": "stream",
     "text": [
      "Data = [0 0 0 ... 0 0 0]\n",
      "Defined type: uint8\n",
      "Occupied Memory = 100000000000104\n"
     ]
    }
   ],
   "source": [
    "# Generate some data\n",
    "data = np.zeros(N, dtype=np.uint8)\n",
    "print(f'Data = {data}')\n",
    "print(f'Defined type: {data.dtype}')\n",
    "print(f'Occupied Memory = {getsizeof(data)}')"
   ]
  },
  {
   "cell_type": "code",
   "execution_count": 40,
   "metadata": {},
   "outputs": [
    {
     "name": "stdout",
     "output_type": "stream",
     "text": [
      "Data exists. Erasing current data\n"
     ]
    }
   ],
   "source": [
    "# Check if exists already defined data variable\n",
    "if 'data' in globals():\n",
    "    print(\"Data exists. Erasing current data\")\n",
    "    del data"
   ]
  }
 ],
 "metadata": {
  "interpreter": {
   "hash": "76d84ba4ec3cc4b0f7063572e62a495ae54fcdfcff2618cc6e1b0e4d07a07a09"
  },
  "kernelspec": {
   "display_name": "Python 3.9.12 ('base')",
   "language": "python",
   "name": "python3"
  },
  "language_info": {
   "codemirror_mode": {
    "name": "ipython",
    "version": 3
   },
   "file_extension": ".py",
   "mimetype": "text/x-python",
   "name": "python",
   "nbconvert_exporter": "python",
   "pygments_lexer": "ipython3",
   "version": "3.9.12"
  },
  "orig_nbformat": 4
 },
 "nbformat": 4,
 "nbformat_minor": 2
}
