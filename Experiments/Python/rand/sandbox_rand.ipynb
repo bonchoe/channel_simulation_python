{
 "cells": [
  {
   "cell_type": "code",
   "execution_count": 1,
   "metadata": {},
   "outputs": [],
   "source": [
    "import numpy as np\n",
    "import csv"
   ]
  },
  {
   "cell_type": "code",
   "execution_count": 2,
   "metadata": {},
   "outputs": [],
   "source": [
    "N = 10**5\n",
    "f = open('tx_digital_data.csv','w', newline='')\n",
    "wr =csv.writer(f)"
   ]
  },
  {
   "cell_type": "code",
   "execution_count": 3,
   "metadata": {},
   "outputs": [],
   "source": [
    "for i in range(N):\n",
    "    rng = np.random.default_rng()\n",
    "    lst = rng.choice([-1,1],2)\n",
    "    # print(lst)\n",
    "    # print(lst.shape)\n",
    "    wr.writerow(lst)"
   ]
  }
 ],
 "metadata": {
  "interpreter": {
   "hash": "76d84ba4ec3cc4b0f7063572e62a495ae54fcdfcff2618cc6e1b0e4d07a07a09"
  },
  "kernelspec": {
   "display_name": "Python 3.9.12 ('base')",
   "language": "python",
   "name": "python3"
  },
  "language_info": {
   "codemirror_mode": {
    "name": "ipython",
    "version": 3
   },
   "file_extension": ".py",
   "mimetype": "text/x-python",
   "name": "python",
   "nbconvert_exporter": "python",
   "pygments_lexer": "ipython3",
   "version": "3.9.12"
  },
  "orig_nbformat": 4
 },
 "nbformat": 4,
 "nbformat_minor": 2
}
