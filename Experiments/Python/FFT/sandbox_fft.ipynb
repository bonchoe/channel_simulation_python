{
 "cells": [
  {
   "cell_type": "code",
   "execution_count": 1,
   "metadata": {},
   "outputs": [],
   "source": [
    "import numpy as np\n",
    "from scipy import signal"
   ]
  },
  {
   "cell_type": "code",
   "execution_count": 2,
   "metadata": {},
   "outputs": [
    {
     "name": "stdout",
     "output_type": "stream",
     "text": [
      "Time required for normal discrete convolution:\n",
      "The slowest run took 8.59 times longer than the fastest. This could mean that an intermediate result is being cached.\n",
      "1min 5s ± 45.3 s per loop (mean ± std. dev. of 7 runs, 1 loop each)\n",
      "Time required for FFT convolution:\n",
      "4.06 ms ± 171 µs per loop (mean ± std. dev. of 7 runs, 100 loops each)\n"
     ]
    }
   ],
   "source": [
    "a = np.random.randn(10**5)\n",
    "b = np.random.randn(10**5)\n",
    "\n",
    "print('Time required for normal discrete convolution:')\n",
    "%timeit np.convolve(a, b)\n",
    "\n",
    "print('Time required for FFT convolution:')\n",
    "%timeit signal.fftconvolve(a, b)"
   ]
  }
 ],
 "metadata": {
  "interpreter": {
   "hash": "76d84ba4ec3cc4b0f7063572e62a495ae54fcdfcff2618cc6e1b0e4d07a07a09"
  },
  "kernelspec": {
   "display_name": "Python 3.9.12 ('base')",
   "language": "python",
   "name": "python3"
  },
  "language_info": {
   "codemirror_mode": {
    "name": "ipython",
    "version": 3
   },
   "file_extension": ".py",
   "mimetype": "text/x-python",
   "name": "python",
   "nbconvert_exporter": "python",
   "pygments_lexer": "ipython3",
   "version": "3.9.12"
  },
  "orig_nbformat": 4
 },
 "nbformat": 4,
 "nbformat_minor": 2
}
