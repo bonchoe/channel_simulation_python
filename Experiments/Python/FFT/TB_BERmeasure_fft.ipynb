{
 "cells": [
  {
   "cell_type": "code",
   "execution_count": 1,
   "metadata": {},
   "outputs": [],
   "source": [
    "# importing libraries\n",
    "from time import *\n",
    "import scipy.signal as signal\n",
    "import scipy.io as sio\n",
    "import numpy as np\n",
    "import matplotlib.pyplot as plt\n",
    "%matplotlib inline\n",
    "\n",
    "tic = time()\n",
    "\n",
    "# environmental settings\n",
    "np.set_printoptions(threshold=1000) # adjust numbers to print out"
   ]
  },
  {
   "cell_type": "code",
   "execution_count": 2,
   "metadata": {},
   "outputs": [],
   "source": [
    "ir = sio.loadmat('../../ir_Microstrip4inch_10Gbps')\n",
    "ir_fext = sio.loadmat('../../ir_Microstrip4inch_fext_10Gbps')\n",
    "\n",
    "ir = np.array(ir['ir'])\n",
    "ir_fext = np.array(ir_fext['ir_fext'])\n",
    "\n",
    "ir = ir.reshape(-1)\n",
    "ir_fext = ir_fext.reshape(-1)"
   ]
  },
  {
   "cell_type": "code",
   "execution_count": 3,
   "metadata": {},
   "outputs": [],
   "source": [
    "# variable definition\n",
    "N = 5*10**6        # total number of symbol\n",
    "sps = 64        # number of samples in one symbol i.e. 1UI\n",
    "SNR_db = 1000   # power ratio b/w signal and noise"
   ]
  },
  {
   "cell_type": "code",
   "execution_count": 4,
   "metadata": {},
   "outputs": [],
   "source": [
    "# channel data generation\n",
    "tx_data_digital = np.zeros((2,N))\n",
    "tx_data_analog = np.zeros((2,N*sps))\n",
    "\n",
    "# Generate two independent gaussian random signal\n",
    "for i in range(N):\n",
    "    data = 2*np.random.randint(2, size=(2,1)) - 1 # random signal generation\n",
    "    tx_data_digital[:, i] = data.flatten()\n",
    "    tx_data_analog[:, (i)*sps : (i+1)*sps] = np.repeat(data,sps,axis=1)"
   ]
  },
  {
   "cell_type": "code",
   "execution_count": 5,
   "metadata": {},
   "outputs": [],
   "source": [
    "# channel response with noise\n",
    "\n",
    "# signal thru lossy tr line i.e. insertion loss\n",
    "rx_ins_loss=signal.fftconvolve(ir,tx_data_analog[0,:])"
   ]
  },
  {
   "cell_type": "code",
   "execution_count": null,
   "metadata": {},
   "outputs": [],
   "source": [
    "# noise generation according to target SNR and dB\n",
    "sig_avg_pow = np.mean(np.square(rx_ins_loss))\n",
    "sig_avg_db = 10 * np.log10(sig_avg_pow)\n",
    "\n",
    "# calculate noise magnitude in dB and power\n",
    "noise_avg_db = sig_avg_db - SNR_db\n",
    "noise_avg_pow = 10 ** (noise_avg_db / 10)\n",
    "\n",
    "# generate a sample of white noise according to normal distribution\n",
    "# mean = 0; variation = noise_avg_pow\n",
    "noise = np.random.normal(0,np.sqrt(noise_avg_pow),len(rx_ins_loss))"
   ]
  },
  {
   "cell_type": "code",
   "execution_count": null,
   "metadata": {},
   "outputs": [
    {
     "name": "stdout",
     "output_type": "stream",
     "text": [
      "[-2.78691099e-06 -6.21429419e-06 -9.87556300e-06 ...  7.60576680e-08\n",
      "  6.35017766e-08  3.73995694e-08]\n"
     ]
    }
   ],
   "source": [
    "print(rx_ins_loss)"
   ]
  },
  {
   "cell_type": "code",
   "execution_count": null,
   "metadata": {},
   "outputs": [],
   "source": [
    "# sum up noise with original rx signal\n",
    "rx_ins_loss += noise"
   ]
  },
  {
   "cell_type": "code",
   "execution_count": null,
   "metadata": {},
   "outputs": [],
   "source": [
    "# channel response with noise and FEXT\n",
    "rx_fext = signal.fftconvolve(ir_fext,tx_data_analog[1,:])\n",
    "\n",
    "rx_signal = rx_fext + rx_ins_loss"
   ]
  },
  {
   "cell_type": "code",
   "execution_count": null,
   "metadata": {},
   "outputs": [],
   "source": [
    "# without CDR we have to know delay of the signal \n",
    "# delay is 461 samples under 4inch 10Gbps simulation \n",
    "\n",
    "# Rx signal sampling\n",
    "rx_sample_data = rx_ins_loss[460:460+sps*N:sps]\n",
    "rx_data_digital = np.sign(rx_sample_data)\n",
    "\n",
    "rx_sample_data_fext = rx_signal[460:460+sps*N:sps]\n",
    "rx_data_digital_fext = np.sign(rx_sample_data_fext)"
   ]
  },
  {
   "cell_type": "code",
   "execution_count": null,
   "metadata": {},
   "outputs": [
    {
     "name": "stdout",
     "output_type": "stream",
     "text": [
      "[ 1.  1.  1. ...  1. -1.  1.]\n"
     ]
    }
   ],
   "source": [
    "print(rx_data_digital)"
   ]
  },
  {
   "cell_type": "code",
   "execution_count": null,
   "metadata": {},
   "outputs": [
    {
     "name": "stdout",
     "output_type": "stream",
     "text": [
      "N: 1000000\n",
      "BER w/o FEXT = 0.0\n",
      "# error: 0.0\n",
      "BER w/  FEXT = 0.009061\n",
      "# error: 9061.0\n"
     ]
    }
   ],
   "source": [
    "# BER measurement\n",
    "tx_channel1_sub = tx_data_digital[0,:]\n",
    "print(f\"N: {N}\")\n",
    "# 1. w/o FEXT\n",
    "# position error: the index element is 1 if error occurred, 0 otherwise\n",
    "error_pos = np.divide(abs(tx_channel1_sub - rx_data_digital),2)\n",
    "error_num = sum(error_pos)\n",
    "\n",
    "BER = error_num / N\n",
    "print(\"BER w/o FEXT =\", BER)\n",
    "print(f\"# error: {error_num}\")\n",
    "\n",
    "# 2. w/ FEXT\n",
    "error_pos_fext = np.divide(abs(tx_channel1_sub - rx_data_digital_fext),2)\n",
    "error_num_fext = sum(error_pos_fext)\n",
    "\n",
    "BER_fext = error_num_fext / N\n",
    "print(\"BER w/  FEXT =\", BER_fext)\n",
    "print(\"# error: {}\".format(error_num_fext))"
   ]
  },
  {
   "cell_type": "code",
   "execution_count": null,
   "metadata": {},
   "outputs": [
    {
     "name": "stdout",
     "output_type": "stream",
     "text": [
      "29.60 sec\n"
     ]
    }
   ],
   "source": [
    "toc = time()\n",
    "print(f'{toc-tic:.2f} sec')"
   ]
  }
 ],
 "metadata": {
  "interpreter": {
   "hash": "b0fa6594d8f4cbf19f97940f81e996739fb7646882a419484c72d19e05852a7e"
  },
  "kernelspec": {
   "display_name": "Python 3.9.10 64-bit",
   "language": "python",
   "name": "python3"
  },
  "language_info": {
   "codemirror_mode": {
    "name": "ipython",
    "version": 3
   },
   "file_extension": ".py",
   "mimetype": "text/x-python",
   "name": "python",
   "nbconvert_exporter": "python",
   "pygments_lexer": "ipython3",
   "version": "3.9.12"
  },
  "orig_nbformat": 4
 },
 "nbformat": 4,
 "nbformat_minor": 2
}
