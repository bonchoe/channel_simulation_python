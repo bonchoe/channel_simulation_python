{
 "cells": [
  {
   "cell_type": "code",
   "execution_count": 1,
   "metadata": {},
   "outputs": [
    {
     "name": "stdout",
     "output_type": "stream",
     "text": [
      "CPU times: user 1.12 s, sys: 88.8 ms, total: 1.21 s\n",
      "Wall time: 2.29 s\n"
     ]
    }
   ],
   "source": [
    "%%time\n",
    "# importing libraries\n",
    "\n",
    "import scipy.io as sio\n",
    "import numpy as np  \n",
    "import matplotlib.pyplot as plt\n",
    "%matplotlib inline\n",
    "# import sys\n",
    "\n",
    "# environmental settings\n",
    "np.set_printoptions(threshold=1000) # adjust numbers to print out"
   ]
  },
  {
   "cell_type": "code",
   "execution_count": 2,
   "metadata": {},
   "outputs": [
    {
     "name": "stdout",
     "output_type": "stream",
     "text": [
      "CPU times: user 4.25 ms, sys: 1.6 ms, total: 5.84 ms\n",
      "Wall time: 7.31 ms\n"
     ]
    }
   ],
   "source": [
    "%%time\n",
    "\n",
    "ir = sio.loadmat('ir_Microstrip4inch_10Gbps')\n",
    "ir_fext = sio.loadmat('ir_Microstrip4inch_fext_10Gbps')\n",
    "\n",
    "ir = np.array(ir['ir'])\n",
    "ir_fext = np.array(ir_fext['ir_fext'])\n",
    "\n",
    "ir = ir.reshape(-1)\n",
    "ir_fext = ir_fext.reshape(-1)"
   ]
  },
  {
   "cell_type": "code",
   "execution_count": 3,
   "metadata": {},
   "outputs": [
    {
     "name": "stdout",
     "output_type": "stream",
     "text": [
      "CPU times: user 2 µs, sys: 1 µs, total: 3 µs\n",
      "Wall time: 4.05 µs\n"
     ]
    }
   ],
   "source": [
    "%%time\n",
    "\n",
    "# variable definition\n",
    "N = 100000        # total number of symbol\n",
    "sps = 64        # number of samples in one symbol i.e. 1UI\n",
    "SNR_db = 1000   # power ratio b/w signal and noise"
   ]
  },
  {
   "cell_type": "code",
   "execution_count": 4,
   "metadata": {},
   "outputs": [
    {
     "name": "stdout",
     "output_type": "stream",
     "text": [
      "CPU times: user 1.43 s, sys: 24.5 ms, total: 1.45 s\n",
      "Wall time: 1.45 s\n"
     ]
    }
   ],
   "source": [
    "%%time\n",
    "\n",
    "# channel data generation\n",
    "tx_data_digital = np.zeros((2,N))\n",
    "tx_data_analog = np.zeros((2,N*sps))\n",
    "\n",
    "# Generate two independent gaussian random signal\n",
    "for i in range(N):\n",
    "    data = 2*np.random.randint(2, size=(2,1)) - 1 # random signal generation\n",
    "    tx_data_digital[:, i] = data.flatten()\n",
    "    tx_data_analog[:, (i)*sps : (i+1)*sps] = np.repeat(data,sps,axis=1)"
   ]
  },
  {
   "cell_type": "code",
   "execution_count": 5,
   "metadata": {},
   "outputs": [],
   "source": [
    "%%time\n",
    "\n",
    "# channel response with noise\n",
    "\n",
    "# signal thru lossy tr line i.e. insertion loss\n",
    "rx_ins_loss=np.convolve(ir,tx_data_analog[0,:])"
   ]
  },
  {
   "cell_type": "code",
   "execution_count": null,
   "metadata": {},
   "outputs": [],
   "source": [
    "%%time\n",
    "\n",
    "# noise generation according to target SNR and dB\n",
    "sig_avg_pow = np.mean(np.square(rx_ins_loss))\n",
    "sig_avg_db = 10 * np.log10(sig_avg_pow)\n",
    "\n",
    "# calculate noise magnitude in dB and power\n",
    "noise_avg_db = sig_avg_db - SNR_db\n",
    "noise_avg_pow = 10 ** (noise_avg_db / 10)\n",
    "\n",
    "# generate a sample of white noise according to normal distribution\n",
    "# mean = 0; variation = noise_avg_pow\n",
    "noise = np.random.normal(0,np.sqrt(noise_avg_pow),len(rx_ins_loss))"
   ]
  },
  {
   "cell_type": "code",
   "execution_count": null,
   "metadata": {},
   "outputs": [
    {
     "name": "stdout",
     "output_type": "stream",
     "text": [
      "[-2.78691099e-06 -6.21429419e-06 -9.87556300e-06 ...  7.60576683e-08\n",
      "  6.35017763e-08  3.73995697e-08]\n"
     ]
    }
   ],
   "source": [
    "%%time\n",
    "\n",
    "print(rx_ins_loss)"
   ]
  },
  {
   "cell_type": "code",
   "execution_count": null,
   "metadata": {},
   "outputs": [],
   "source": [
    "%%time\n",
    "\n",
    "# sum up noise with original rx signal\n",
    "rx_ins_loss += noise"
   ]
  },
  {
   "cell_type": "code",
   "execution_count": null,
   "metadata": {},
   "outputs": [],
   "source": [
    "%%time\n",
    "\n",
    "# channel response with noise and FEXT\n",
    "rx_fext = np.convolve(ir_fext,tx_data_analog[1,:])\n",
    "\n",
    "rx_signal = rx_fext + rx_ins_loss"
   ]
  },
  {
   "cell_type": "code",
   "execution_count": null,
   "metadata": {},
   "outputs": [],
   "source": [
    "%%time\n",
    "\n",
    "# without CDR we have to know delay of the signal \n",
    "# delay is 461 samples under 4inch 10Gbps simulation \n",
    "\n",
    "# Rx signal sampling\n",
    "rx_sample_data = rx_ins_loss[460:460+sps*N:sps]\n",
    "rx_data_digital = np.sign(rx_sample_data)\n",
    "\n",
    "rx_sample_data_fext = rx_signal[460:460+sps*N:sps]\n",
    "rx_data_digital_fext = np.sign(rx_sample_data_fext)"
   ]
  },
  {
   "cell_type": "code",
   "execution_count": null,
   "metadata": {},
   "outputs": [
    {
     "name": "stdout",
     "output_type": "stream",
     "text": [
      "[ 1. -1. -1. ...  1.  1.  1.]\n"
     ]
    }
   ],
   "source": [
    "%%time\n",
    "\n",
    "print(rx_data_digital)"
   ]
  },
  {
   "cell_type": "code",
   "execution_count": null,
   "metadata": {},
   "outputs": [
    {
     "name": "stdout",
     "output_type": "stream",
     "text": [
      "N: 100000\n",
      "BER w/o FEXT = 0.0\n",
      "# error: 0.0\n",
      "BER w/  FEXT = 0.0094\n",
      "# error: 940.0\n"
     ]
    }
   ],
   "source": [
    "%%time\n",
    "\n",
    "# BER measurement\n",
    "tx_channel1_sub = tx_data_digital[0,:]\n",
    "print(f\"N: {N}\")\n",
    "# 1. w/o FEXT\n",
    "# position error: the index element is 1 if error occurred, 0 otherwise\n",
    "error_pos = np.divide(abs(tx_channel1_sub - rx_data_digital),2)\n",
    "error_num = sum(error_pos)\n",
    "\n",
    "BER = error_num / N\n",
    "print(\"BER w/o FEXT =\", BER)\n",
    "print(f\"# error: {error_num}\")\n",
    "\n",
    "# 2. w/ FEXT\n",
    "error_pos_fext = np.divide(abs(tx_channel1_sub - rx_data_digital_fext),2)\n",
    "error_num_fext = sum(error_pos_fext)\n",
    "\n",
    "BER_fext = error_num_fext / N\n",
    "print(\"BER w/  FEXT =\", BER_fext)\n",
    "print(\"# error: {}\".format(error_num_fext))"
   ]
  }
 ],
 "metadata": {
  "interpreter": {
   "hash": "b0fa6594d8f4cbf19f97940f81e996739fb7646882a419484c72d19e05852a7e"
  },
  "kernelspec": {
   "display_name": "Python 3.9.10 64-bit",
   "language": "python",
   "name": "python3"
  },
  "language_info": {
   "codemirror_mode": {
    "name": "ipython",
    "version": 3
   },
   "file_extension": ".py",
   "mimetype": "text/x-python",
   "name": "python",
   "nbconvert_exporter": "python",
   "pygments_lexer": "ipython3",
   "version": "3.9.12"
  },
  "orig_nbformat": 4
 },
 "nbformat": 4,
 "nbformat_minor": 2
}
