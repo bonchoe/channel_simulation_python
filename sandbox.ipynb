{
 "cells": [
  {
   "cell_type": "code",
   "execution_count": 1,
   "metadata": {},
   "outputs": [],
   "source": [
    "# importing libraries\n",
    "import scipy.io as sio\n",
    "import numpy as np  \n",
    "import matplotlib.pyplot as plt\n",
    "# import sys\n",
    "\n",
    "# environmental settings\n",
    "np.set_printoptions(threshold=1000) # adjust numbers to print out"
   ]
  },
  {
   "cell_type": "code",
   "execution_count": 9,
   "metadata": {},
   "outputs": [],
   "source": [
    "# variable definition\n",
    "N = 2           # total number of symbol\n",
    "sps = 4         # number of samples in one symbol i.e. 1UI\n",
    "SNR_db = 1000   # power ratio b/w signal and noise"
   ]
  },
  {
   "cell_type": "code",
   "execution_count": 86,
   "metadata": {},
   "outputs": [
    {
     "name": "stdout",
     "output_type": "stream",
     "text": [
      "Tx analog data = \n",
      "[[-1. -1. -1. -1.  1.  1.  1.  1.]\n",
      " [ 1.  1.  1.  1.  1.  1.  1.  1.]]\n",
      "Tx digital data = \n",
      "[[-1.  1.]\n",
      " [ 1.  1.]]\n"
     ]
    }
   ],
   "source": [
    "# channel data generation\n",
    "# N = 2; sps = 4\n",
    "tx_data_digital = np.zeros((2,N))\n",
    "tx_data_analog = np.zeros((2,N*sps))\n",
    "\n",
    "for i in range(N):\n",
    "    # random signal generation, either -1 or 1\n",
    "    data = 2*np.random.randint(2, size=(2,1)) - 1\n",
    "    tx_data_digital[:, i] = data.flatten()\n",
    "    tx_data_analog[:, (i)*sps : (i+1)*sps] = np.repeat(data,sps,axis=1)\n",
    "\n",
    "print(f'Tx analog data = \\n{tx_data_analog}')\n",
    "print(f'Tx digital data = \\n{tx_data_digital}')"
   ]
  },
  {
   "cell_type": "code",
   "execution_count": 64,
   "metadata": {},
   "outputs": [
    {
     "name": "stdout",
     "output_type": "stream",
     "text": [
      "(2, 1)\n",
      "[-1  1]\n",
      "(2,)\n",
      "(2,)\n"
     ]
    }
   ],
   "source": [
    "data = 2*np.random.randint(2, size=(2,1)) - 1\n",
    "print(data.shape)\n",
    "data = data.flatten()\n",
    "print(data)\n",
    "\n",
    "print(data.shape)\n",
    "print(tx_data_digital[:,1].shape)"
   ]
  }
 ],
 "metadata": {
  "interpreter": {
   "hash": "b0fa6594d8f4cbf19f97940f81e996739fb7646882a419484c72d19e05852a7e"
  },
  "kernelspec": {
   "display_name": "Python 3.9.10 64-bit",
   "language": "python",
   "name": "python3"
  },
  "language_info": {
   "name": "python",
   "version": "3.9.10"
  },
  "orig_nbformat": 4
 },
 "nbformat": 4,
 "nbformat_minor": 2
}
